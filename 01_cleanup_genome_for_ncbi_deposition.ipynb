{
 "cells": [
  {
   "cell_type": "markdown",
   "id": "b7c30ead",
   "metadata": {},
   "source": [
    "This notebook removes short contiguous sequences from the *Amblyomma americanum* genome. It operates on the output of purge_dups."
   ]
  },
  {
   "cell_type": "markdown",
   "id": "ac51834f-829e-467d-b966-744696b598f8",
   "metadata": {
    "tags": []
   },
   "source": [
    "<H1>Imports</H1>"
   ]
  },
  {
   "cell_type": "code",
   "execution_count": 15,
   "id": "1ef14cf3-b7dd-440f-bed0-67dc32d89eae",
   "metadata": {
    "tags": []
   },
   "outputs": [],
   "source": [
    "import time"
   ]
  },
  {
   "cell_type": "markdown",
   "id": "fc8bc802-135f-4487-8600-5db63d544232",
   "metadata": {},
   "source": [
    "<H1>Variables</H1>"
   ]
  },
  {
   "cell_type": "code",
   "execution_count": 16,
   "id": "70a53f32-d67f-4ce9-85cb-5790b5633a00",
   "metadata": {
    "tags": []
   },
   "outputs": [
    {
     "name": "stdout",
     "output_type": "stream",
     "text": [
      "0.0010139942169189453\n"
     ]
    }
   ],
   "source": [
    "start = time.time()\n",
    "\n",
    "input_file1 = 'Arcadia_Amblyomma_americanum_asm001_purged.fasta' # https://zenodo.org/record/7747102/files/Arcadia_Amblyomma_americanum_asm001_purged.fasta?download=1\n",
    "output_file1 = 'Arcadia_Amblyomma_americanum_asm001_purged_cleanedup1.fasta' # https://zenodo.org/record/7783368/files/Arcadia_Amblyomma_americanum_asm001_purged_cleanedup1.fasta?download=1\n",
    "\n",
    "#-----number of nucleotides that define short contigs which need removal (NCBI: 200nt)\n",
    "short_contig_cutoff = 200\n",
    "\n",
    "#-----list contigs needing removal\n",
    "short_contigs = ['contig_9690', 'contig_6708', 'contig_93095', 'contig_5737', 'contig_125013', 'contig_104', 'contig_142567', 'contig_4598', 'contig_7758']\n",
    "duplicated_contigs = ['contig_102103', 'contig_105162', 'contig_108022', 'contig_181458', 'contig_208362', 'contig_37540', 'contig_74390']\n",
    "mitochondrial_contigs = ['contig_121530']\n",
    "\n",
    "#-----dictionary (key=contig; value=2-item list containing start and stop regions) of contigs that need editing\n",
    "contigs_with_regions_to_removal = {'contig_174002' : [67598,67642]}\n",
    "\n",
    "end = time.time()\n",
    "print(end-start)"
   ]
  },
  {
   "cell_type": "markdown",
   "id": "25d5478b-a7a3-4afa-a3d4-57e4c8918124",
   "metadata": {},
   "source": [
    "<H1>Read in fasta file</H1>"
   ]
  },
  {
   "cell_type": "code",
   "execution_count": 17,
   "id": "02529ce5-39a8-439f-b982-194c57f11571",
   "metadata": {
    "tags": []
   },
   "outputs": [
    {
     "name": "stdout",
     "output_type": "stream",
     "text": [
      "80.36903810501099\n"
     ]
    }
   ],
   "source": [
    "start = time.time()\n",
    "\n",
    "#-----read in genome fasta\n",
    "with open(input_file1, 'r') as f:\n",
    "    file1 = f.readlines()\n",
    "\n",
    "end = time.time()\n",
    "print(end-start)"
   ]
  },
  {
   "cell_type": "markdown",
   "id": "128df455-c92b-4788-95ad-bbdb3c1dd46e",
   "metadata": {},
   "source": [
    "<H1>Collect contigs and segments to remove</H1>"
   ]
  },
  {
   "cell_type": "code",
   "execution_count": 18,
   "id": "7eabee42-9419-4f5b-8243-e74e7d856a1a",
   "metadata": {
    "tags": []
   },
   "outputs": [
    {
     "name": "stdout",
     "output_type": "stream",
     "text": [
      "0.00024008750915527344\n"
     ]
    }
   ],
   "source": [
    "start = time.time()\n",
    "\n",
    "#-----concatenate list of contigs needing removal\n",
    "list_of_contigs_to_remove = short_contigs + duplicated_contigs + mitochondrial_contigs\n",
    "\n",
    "#-----create dictionary of contigs and regions requiring editing/removal\n",
    "dict_of_contigs_to_edit = contigs_with_regions_to_removal\n",
    "\n",
    "end = time.time()\n",
    "print(end-start)"
   ]
  },
  {
   "cell_type": "markdown",
   "id": "ae9d4cda-08af-4434-bef2-b4be85af82a9",
   "metadata": {},
   "source": [
    "<H1>Iterate through fasta file and output into new fasta file while filtering</H1>"
   ]
  },
  {
   "cell_type": "code",
   "execution_count": 19,
   "id": "33cf5334-9b66-4df5-97cd-81bc9c369ec6",
   "metadata": {
    "tags": []
   },
   "outputs": [
    {
     "name": "stdout",
     "output_type": "stream",
     "text": [
      "114.08654689788818\n"
     ]
    }
   ],
   "source": [
    "start = time.time()\n",
    "\n",
    "#-----define variables\n",
    "entry_name1 = ''\n",
    "entry_seq1 = ''\n",
    "\n",
    "#-----iterate through read file and output fasta documents into new file\n",
    "with open(output_file1, 'w') as g:\n",
    "    for line1 in file1:\n",
    "        if (line1[0] == '>'):\n",
    "            if (entry_name1 != ''):\n",
    "                #---remove whole contigs according to entries in \"list_of_contigs_to_remove\"\n",
    "                if entry_name1 not in list_of_contigs_to_remove:\n",
    "                    #---remove contig segments according to entries in \"dict_of_contigs_to_edit\"\n",
    "                    if entry_name1 in dict_of_contigs_to_edit.keys():\n",
    "                        temp_seq1 = entry_seq1[0:dict_of_contigs_to_edit[entry_name1][0]] + entry_seq1[dict_of_contigs_to_edit[entry_name1][1]:]\n",
    "                        entry_seq1 = temp_seq1\n",
    "                    #---remove contigs with number of nucleotides less than 'short_contig_cutoff' variable\n",
    "                    if len(entry_seq1) > short_contig_cutoff:\n",
    "                        temp_line1 = '>' + str(entry_name1) + '\\n'\n",
    "                        temp_line2 = str(entry_seq1) + '\\n'\n",
    "                        g.write(temp_line1)\n",
    "                        g.write(temp_line2)\n",
    "            entry_name1 = line1.replace('>', '').replace('\\n', '')\n",
    "            entry_seq1 = ''\n",
    "        else:\n",
    "            entry_seq1 += line1.replace('\\n', '')\n",
    "    #---write out last contig sequence\n",
    "    temp_line1 = '>' + str(entry_name1) + '\\n'\n",
    "    temp_line2 = str(entry_seq1) + '\\n'\n",
    "    g.write(temp_line1)\n",
    "    g.write(temp_line2)\n",
    "\n",
    "end = time.time()\n",
    "print(end-start)"
   ]
  },
  {
   "cell_type": "code",
   "execution_count": null,
   "id": "352cfef0-fd2a-429d-97e4-4739335670bc",
   "metadata": {},
   "outputs": [],
   "source": []
  }
 ],
 "metadata": {
  "kernelspec": {
   "display_name": "Python 3 (ipykernel)",
   "language": "python",
   "name": "python3"
  },
  "language_info": {
   "codemirror_mode": {
    "name": "ipython",
    "version": 3
   },
   "file_extension": ".py",
   "mimetype": "text/x-python",
   "name": "python",
   "nbconvert_exporter": "python",
   "pygments_lexer": "ipython3",
   "version": "3.11.0"
  }
 },
 "nbformat": 4,
 "nbformat_minor": 5
}
